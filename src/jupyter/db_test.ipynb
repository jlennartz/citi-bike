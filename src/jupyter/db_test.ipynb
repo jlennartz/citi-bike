{
 "cells": [
  {
   "cell_type": "code",
   "execution_count": 1,
   "id": "4ff6d3c3",
   "metadata": {},
   "outputs": [],
   "source": [
    "import pandas as pd\n",
    "from sqlalchemy import create_engine"
   ]
  },
  {
   "cell_type": "code",
   "execution_count": 2,
   "id": "c756b45d",
   "metadata": {},
   "outputs": [
    {
     "data": {
      "text/html": [
       "<div>\n",
       "<style scoped>\n",
       "    .dataframe tbody tr th:only-of-type {\n",
       "        vertical-align: middle;\n",
       "    }\n",
       "\n",
       "    .dataframe tbody tr th {\n",
       "        vertical-align: top;\n",
       "    }\n",
       "\n",
       "    .dataframe thead th {\n",
       "        text-align: right;\n",
       "    }\n",
       "</style>\n",
       "<table border=\"1\" class=\"dataframe\">\n",
       "  <thead>\n",
       "    <tr style=\"text-align: right;\">\n",
       "      <th></th>\n",
       "      <th>start_latitude</th>\n",
       "      <th>start_longitude</th>\n",
       "      <th>end_latitude</th>\n",
       "      <th>end_longitude</th>\n",
       "    </tr>\n",
       "  </thead>\n",
       "  <tbody>\n",
       "    <tr>\n",
       "      <th>0</th>\n",
       "      <td>40.712220</td>\n",
       "      <td>-74.010472</td>\n",
       "      <td>40.709267</td>\n",
       "      <td>-74.013247</td>\n",
       "    </tr>\n",
       "    <tr>\n",
       "      <th>1</th>\n",
       "      <td>40.719392</td>\n",
       "      <td>-74.002472</td>\n",
       "      <td>40.727791</td>\n",
       "      <td>-73.985649</td>\n",
       "    </tr>\n",
       "    <tr>\n",
       "      <th>2</th>\n",
       "      <td>40.686832</td>\n",
       "      <td>-73.979677</td>\n",
       "      <td>40.689170</td>\n",
       "      <td>-73.988600</td>\n",
       "    </tr>\n",
       "    <tr>\n",
       "      <th>3</th>\n",
       "      <td>40.724790</td>\n",
       "      <td>-73.984301</td>\n",
       "      <td>40.723356</td>\n",
       "      <td>-73.988650</td>\n",
       "    </tr>\n",
       "    <tr>\n",
       "      <th>4</th>\n",
       "      <td>40.768292</td>\n",
       "      <td>-73.992563</td>\n",
       "      <td>40.739323</td>\n",
       "      <td>-74.008119</td>\n",
       "    </tr>\n",
       "  </tbody>\n",
       "</table>\n",
       "</div>"
      ],
      "text/plain": [
       "   start_latitude  start_longitude  end_latitude  end_longitude\n",
       "0       40.712220       -74.010472     40.709267     -74.013247\n",
       "1       40.719392       -74.002472     40.727791     -73.985649\n",
       "2       40.686832       -73.979677     40.689170     -73.988600\n",
       "3       40.724790       -73.984301     40.723356     -73.988650\n",
       "4       40.768292       -73.992563     40.739323     -74.008119"
      ]
     },
     "execution_count": 2,
     "metadata": {},
     "output_type": "execute_result"
    }
   ],
   "source": [
    "engine = create_engine(\n",
    "    \"postgresql+psycopg2://lennartz@localhost:5432/citibike2023\"\n",
    ")\n",
    "\n",
    "sample_sql = \"\"\"\n",
    "SELECT \n",
    "  start_latitude,\n",
    "  start_longitude,\n",
    "  end_latitude,\n",
    "  end_longitude\n",
    "FROM public.citibike_trips\n",
    "LIMIT 5;\n",
    "\"\"\"\n",
    "\n",
    "df_sample = pd.read_sql(sample_sql, con=engine)\n",
    "df_sample\n"
   ]
  }
 ],
 "metadata": {
  "kernelspec": {
   "display_name": "citibike",
   "language": "python",
   "name": "python3"
  },
  "language_info": {
   "codemirror_mode": {
    "name": "ipython",
    "version": 3
   },
   "file_extension": ".py",
   "mimetype": "text/x-python",
   "name": "python",
   "nbconvert_exporter": "python",
   "pygments_lexer": "ipython3",
   "version": "3.13.5"
  }
 },
 "nbformat": 4,
 "nbformat_minor": 5
}
